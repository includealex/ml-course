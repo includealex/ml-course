{
 "cells": [
  {
   "cell_type": "markdown",
   "metadata": {},
   "source": [
    "*Credits: materials from this notebook belong to YSDA [Practical DL](https://github.com/yandexdataschool/Practical_DL) course. Special thanks for making them available online.*"
   ]
  },
  {
   "cell_type": "markdown",
   "metadata": {},
   "source": [
    "# Lab assignment №1, part 1\n",
    "\n",
    "This lab assignment consists of several parts. You are supposed to make some transformations, train some models, estimate the quality of the models and explain your results.\n",
    "\n",
    "Several comments:\n",
    "* Don't hesitate to ask questions, it's a good practice.\n",
    "* No private/public sharing, please. The copied assignments will be graded with 0 points.\n",
    "* Blocks of this lab will be graded separately."
   ]
  },
  {
   "cell_type": "markdown",
   "metadata": {},
   "source": [
    "## 1. Matrix differentiation"
   ]
  },
  {
   "cell_type": "markdown",
   "metadata": {},
   "source": [
    "Since it easy to google every task please please please try to undestand what's going on. The \"just answer\" thing will be not counted, make sure to present derivation of your solution. It is absolutely OK if you found an answer on web then just exercise in $\\LaTeX$ copying it into here."
   ]
  },
  {
   "cell_type": "markdown",
   "metadata": {},
   "source": [
    "Useful links: \n",
    "[1](http://www.machinelearning.ru/wiki/images/2/2a/Matrix-Gauss.pdf)\n",
    "[2](http://www.atmos.washington.edu/~dennis/MatrixCalculus.pdf)"
   ]
  },
  {
   "cell_type": "markdown",
   "metadata": {},
   "source": [
    "## ex. 1"
   ]
  },
  {
   "cell_type": "markdown",
   "metadata": {},
   "source": [
    "$$  \n",
    "y = x^Tx,  \\quad x \\in \\mathbb{R}^N \n",
    "$$"
   ]
  },
  {
   "cell_type": "markdown",
   "metadata": {},
   "source": [
    "$$\n",
    "\\frac{dy}{dx} = \\frac{dy}{dx_\\alpha} \\left[ {x_\\alpha} ^2 + \\sum_{i, j \\neq \\alpha} a_{ij} x_i x_j + ... \\right] = 2 x\n",
    "\n",
    "$$ "
   ]
  },
  {
   "cell_type": "markdown",
   "metadata": {},
   "source": [
    "## ex. 2"
   ]
  },
  {
   "cell_type": "markdown",
   "metadata": {},
   "source": [
    "$$ y = tr(AB) \\quad A,B \\in \\mathbb{R}^{N \\times N} $$ "
   ]
  },
  {
   "cell_type": "markdown",
   "metadata": {},
   "source": [
    "Using Einsteins notation:\n",
    "\n",
    "$$\n",
    "y = tr(AB) = tr(a_{ik} \\cdot b^{kj}) = a_{ik} \\cdot b^{ki}\n",
    "$$\n",
    "\n",
    "$$\n",
    "\\left(\\frac{dy}{dA} \\right)_{\\alpha \\beta} = \\frac{d (a_{ik} \\cdot b^{ki})}{d(a_{\\alpha \\beta})} = \\delta_{i\\alpha} \\delta_{k\\beta} b^{ki} = b^{\\beta \\alpha}\n",
    "$$\n",
    "\n",
    "$$\n",
    "\\Rightarrow \\frac{dy}{dA} = B^T\n",
    "$$"
   ]
  },
  {
   "cell_type": "markdown",
   "metadata": {},
   "source": [
    "## ex. 3"
   ]
  },
  {
   "cell_type": "markdown",
   "metadata": {},
   "source": [
    "$$  \n",
    "y = x^TAc , \\quad A\\in \\mathbb{R}^{N \\times N}, x\\in \\mathbb{R}^{N}, c\\in \\mathbb{R}^{N} \n",
    "$$"
   ]
  },
  {
   "cell_type": "markdown",
   "metadata": {},
   "source": [
    "$$\n",
    "\\left( \\frac{dy}{dx}\\right)_{\\alpha} = \\frac{d(x^j a_i^j c_i)}{dx_{\\alpha}} = \\delta^{\\alpha j} a_i^j c_i = a_i^\\alpha c_i\n",
    "$$\n",
    "\n",
    "\n",
    "$$\n",
    "\\frac{dy}{dx} = A \\cdot c\n",
    "$$"
   ]
  },
  {
   "cell_type": "markdown",
   "metadata": {},
   "source": [
    "$$\n",
    "\\left( \\frac{dy}{dA}\\right) ^\\alpha _\\beta = \\frac{d(x^j a_i^j c_i)}{d(a ^\\alpha _\\beta)} = \\delta_{i \\alpha} \\delta_{j \\beta} x^j c_i = x^\\beta c_\\alpha\n",
    "$$\n",
    "\n",
    "$$\n",
    "\\frac{dy}{dA} = x c^T\n",
    "$$ "
   ]
  },
  {
   "cell_type": "markdown",
   "metadata": {},
   "source": [
    "Hint for the latter (one of the ways): use *ex. 2* result and the fact \n",
    "$$\n",
    "tr(ABC) = tr (CAB)\n",
    "$$"
   ]
  },
  {
   "cell_type": "markdown",
   "metadata": {},
   "source": [
    "## ex. 4"
   ]
  },
  {
   "cell_type": "markdown",
   "metadata": {},
   "source": [
    "Classic matrix factorization example. Given matrix $X$ you need to find $A$, $S$ to approximate $X$. This can be done by simple gradient descent iteratively alternating $A$ and $S$ updates.\n",
    "$$\n",
    "J = || X - AS ||_F^2  , \\quad A\\in \\mathbb{R}^{N \\times R} , \\quad S\\in \\mathbb{R}^{R \\times M}\n",
    "$$\n",
    "\n",
    "$$\n",
    "df(S) = d<S, S> = 2 <S, dS> = 2 <(-AS + X), d(-AS + X)>\n",
    "$$\n",
    "\n",
    "$$\n",
    "\\nabla f(S) = -2A^T(-AS + X)\n",
    "$$\n",
    "\n",
    "$$\n",
    "\\frac{dJ}{dS} = -2 (X - AS)A^T\n",
    "$$\n",
    "\n",
    "You may use one of the following approaches:"
   ]
  },
  {
   "cell_type": "markdown",
   "metadata": {},
   "source": [
    "#### First approach\n",
    "Using ex.2 and the fact:\n",
    "$$\n",
    "|| X ||_F^2 = tr(XX^T) \n",
    "$$ \n",
    "it is easy to derive gradients (you can find it in one of the refs). "
   ]
  },
  {
   "cell_type": "markdown",
   "metadata": {},
   "source": [
    "#### Second approach\n",
    "You can use *slightly different techniques* if they suits you. Take a look at this derivation:\n",
    "<img src=\"grad.png\">\n",
    "(excerpt from [Handbook of blind source separation, Jutten, page 517](https://books.google.ru/books?id=PTbj03bYH6kC&printsec=frontcover&dq=Handbook+of+Blind+Source+Separation&hl=en&sa=X&ved=0ahUKEwi-q_apiJDLAhULvXIKHVXJDWcQ6AEIHDAA#v=onepage&q=Handbook%20of%20Blind%20Source%20Separation&f=false), open for better picture)."
   ]
  },
  {
   "cell_type": "markdown",
   "metadata": {},
   "source": [
    "#### Third approach\n",
    "And finally we can use chain rule! \n",
    "let $ F = AS $ \n",
    "\n",
    "**Find**\n",
    "$$\n",
    "\\frac{dJ}{dF} =  \n",
    "$$ \n",
    "and \n",
    "$$\n",
    "\\frac{dF}{dS} =  \n",
    "$$ \n",
    "(the shape should be $ NM \\times RM )$.\n",
    "\n",
    "Now it is easy do get desired gradients:\n",
    "$$\n",
    "\\frac{dJ}{dS} =  \n",
    "$$ "
   ]
  },
  {
   "cell_type": "markdown",
   "metadata": {
    "collapsed": true,
    "jupyter": {
     "outputs_hidden": true
    }
   },
   "source": [
    "## 2. kNN questions\n",
    "Here come the questions from the assignment0_01. Please, refer to the assignment0_01 to get the context of the questions."
   ]
  },
  {
   "cell_type": "markdown",
   "metadata": {},
   "source": [
    "### Question 1\n",
    "\n",
    "Notice the structured patterns in the distance matrix, where some rows or columns are visible brighter. (Note that with the default color scheme black indicates low distances while white indicates high distances.)\n",
    "\n",
    "- What in the data is the cause behind the distinctly bright rows?\n",
    "- What causes the columns?\n",
    "\n",
    "*Your Answer:*\n",
    "\n",
    "- Dataset has some samples that are very different from others.\n",
    "- Dark columns are most frequent due to the lack of such a samples in the test sample.\n",
    "\n"
   ]
  },
  {
   "cell_type": "markdown",
   "metadata": {},
   "source": [
    "### Question 2\n",
    "\n",
    "We can also use other distance metrics such as L1 distance.\n",
    "For pixel values $p_{ij}^{(k)}$ at location $(i,j)$ of some image $I_k$, \n",
    "\n",
    "the mean $\\mu$ across all pixels over all images is $$\\mu=\\frac{1}{nhw}\\sum_{k=1}^n\\sum_{i=1}^{h}\\sum_{j=1}^{w}p_{ij}^{(k)}$$\n",
    "And the pixel-wise mean $\\mu_{ij}$ across all images is \n",
    "$$\\mu_{ij}=\\frac{1}{n}\\sum_{k=1}^np_{ij}^{(k)}.$$\n",
    "The general standard deviation $\\sigma$ and pixel-wise standard deviation $\\sigma_{ij}$ is defined similarly.\n",
    "\n",
    "Which of the following preprocessing steps will not change the performance of a Nearest Neighbor classifier that uses L1 distance? Select all that apply.\n",
    "1. Subtracting the mean $\\mu$ ($\\tilde{p}_{ij}^{(k)}=p_{ij}^{(k)}-\\mu$.)\n",
    "2. Subtracting the per pixel mean $\\mu_{ij}$  ($\\tilde{p}_{ij}^{(k)}=p_{ij}^{(k)}-\\mu_{ij}$.)\n",
    "3. Subtracting the mean $\\mu$ and dividing by the standard deviation $\\sigma$.\n",
    "4. Subtracting the pixel-wise mean $\\mu_{ij}$ and dividing by the pixel-wise standard deviation $\\sigma_{ij}$.\n",
    "5. Rotating the coordinate axes of the data.\n",
    "\n",
    "*Your Answer:*\n",
    "\n",
    "\n",
    "*Your Explanation:*\n",
    "- 1. Preserved distances:\n",
    "$$||\\tilde{x}^{(k)} - \\tilde{x}^{(l)}||_1 = \\sum_{i=1}^{h}\\sum_{j=1}^{w}|(p_{ij}^{(k)}-\\mu) - (p_{ij}^{(l)}-\\mu)| = \\sum_{i=1}^{h}\\sum_{j=1}^{w}|p_{ij}^{(k)} - p_{ij}^{(l)}| = ||x^{(k)} - x^{(l)}||_1$$\n",
    "\n",
    "- 2. Preserved distances:\n",
    "$$||\\tilde{x}^{(k)} - \\tilde{x}^{(l)}||_1 = \\sum_{i=1}^{h}\\sum_{j=1}^{w}|(p_{ij}^{(k)}-\\mu_{ij}) - (p_{ij}^{(l)}-\\mu_{ij})| = \\sum_{i=1}^{h}\\\\sum_{j=1}^{w}|p_{ij}^{(k)} - p_{ij}^{(l)}| = ||x^{(k)} - x^{(l)}||_1$$\n",
    "\n",
    "- 3. Preserved distance ordering:\n",
    "$$\\text{Let} \\hspace{0.3cm} ||{x}^{(k)} - {x}^{(l)}||_1 < ||{x}^{(m)} - {x}^{(n)}||_1$$\n",
    "\n",
    "- 4. Not preserved:\n",
    "\n",
    "Let $x_1 = [-2, 0], x_2 = [0, 1], x_3 = [2, 0]$, then\n",
    "\n",
    "$\\tilde{x}_1 \\approx [-1.22, -0.71], \\tilde{x}_2 \\approx [0, 1.41], \\tilde{x}_3 = [1.22, -0.71]$\n",
    "\n",
    "$$4.0 = ||x^{(0)} - x^{(1)}||_1 < ||x^{(0)} - x^{(2)}||_1 = 3.0 \\text{, but}$$\n",
    "$$3.35 \\approx ||\\tilde{x}^{(0)} - \\tilde{x}^{(1)}||_1 > ||\\tilde{x}^{(0)} - \\tilde{x}^{(2)}||_1 \\approx 2.45$$\n",
    "\n",
    "- 5. Not preserved:\n",
    "\n",
    "Let $x_1 = [0, 2], x_2 = [2, -1], x_3 = [4, 2]$ and rotate them by 45 degrees with matrix:\n",
    "\n",
    "$$\n",
    "A = \\begin{bmatrix}\n",
    "\\frac{\\sqrt{2}}{2} & -\\frac{\\sqrt{2}}{2} \\\\\n",
    "\\frac{\\sqrt{2}}{2} &  \\frac{\\sqrt{2}}{2} \\\\\n",
    "\\end{bmatrix} \\text{, then}\n",
    "$$\n",
    "$\\tilde{x}_1 \\approx [1.41, 1.41], \\tilde{x}_2 \\approx [0.71, -2.12], \\tilde{x}_3 = [4.24, -1.41]$\n",
    "$$5.0 = ||x^{(0)} - x^{(1)}||_1 > ||x^{(0)} - x^{(2)}||_1 = 4.0 \\text{, but}$$\n",
    "$$4.24 \\approx || \\tilde{x}^{(0)} - \\tilde{x}^{(1)}||_1 < ||\\tilde{x}^{(0)} - \\tilde{x}^{(2)}||_1 \\approx 5.66$$"
   ]
  },
  {
   "cell_type": "markdown",
   "metadata": {},
   "source": [
    "## Question 3\n",
    "\n",
    "Which of the following statements about $k$-Nearest Neighbor ($k$-NN) are true in a classification setting, and for all $k$? Select all that apply.\n",
    "1. The decision boundary (hyperplane between classes in feature space) of the k-NN classifier is linear.\n",
    "2. The training error of a 1-NN will always be lower than that of 5-NN.\n",
    "3. The test error of a 1-NN will always be lower than that of a 5-NN.\n",
    "4. The time needed to classify a test example with the k-NN classifier grows with the size of the training set.\n",
    "5. None of the above.\n",
    "\n",
    "*Your Answer:*\n",
    "\n",
    "- 2\n",
    "- 4\n",
    "\n",
    "\n",
    "*Your Explanation:*\n",
    "\n",
    "- 2. For the nearest neighbor having test set equal to training data set leads to making error equal to 0. But for 5-NN zero is the lowest possible value.\n",
    "\n",
    "- 4.  NN's training set depends on the size of a list of nearest neighbors, thus the time will increase."
   ]
  }
 ],
 "metadata": {
  "kernelspec": {
   "display_name": "mipt",
   "language": "python",
   "name": "mipt"
  },
  "language_info": {
   "codemirror_mode": {
    "name": "ipython",
    "version": 3
   },
   "file_extension": ".py",
   "mimetype": "text/x-python",
   "name": "python",
   "nbconvert_exporter": "python",
   "pygments_lexer": "ipython3",
   "version": "3.9.5"
  }
 },
 "nbformat": 4,
 "nbformat_minor": 4
}
